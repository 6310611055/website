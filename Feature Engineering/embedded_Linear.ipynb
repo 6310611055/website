{
 "cells": [
  {
   "cell_type": "code",
   "execution_count": 54,
   "metadata": {},
   "outputs": [],
   "source": [
    "import pandas as pd\n",
    "import numpy as np\n",
    "import seaborn as sns\n",
    "import matplotlib.pyplot as plt"
   ]
  },
  {
   "cell_type": "code",
   "execution_count": 55,
   "metadata": {},
   "outputs": [],
   "source": [
    "from sklearn.neighbors import KNeighborsClassifier as knn\n",
    "from sklearn.linear_model import LogisticRegression as LGR,Lasso\n",
    "from sklearn.ensemble import RandomForestClassifier as rfc\n",
    "from sklearn.model_selection import train_test_split\n",
    "from sklearn.feature_selection import SelectFromModel\n",
    "from sklearn import metrics"
   ]
  },
  {
   "cell_type": "code",
   "execution_count": 56,
   "metadata": {},
   "outputs": [
    {
     "name": "stderr",
     "output_type": "stream",
     "text": [
      "C:\\Users\\ksd04\\AppData\\Local\\Temp\\ipykernel_31504\\547342578.py:5: FutureWarning: In a future version of pandas all arguments of DataFrame.drop except for the argument 'labels' will be keyword-only.\n",
      "  df2 = df2.drop([\"Unnamed: 0\", \"Id\"], 1)\n",
      "C:\\Users\\ksd04\\AppData\\Local\\Temp\\ipykernel_31504\\547342578.py:6: FutureWarning: In a future version of pandas all arguments of DataFrame.drop except for the argument 'labels' will be keyword-only.\n",
      "  df = df.drop([\"Unnamed: 0\", \"days\", \"inpatient\"], 1)\n",
      "C:\\Users\\ksd04\\AppData\\Local\\Temp\\ipykernel_31504\\547342578.py:8: FutureWarning: In a future version of pandas all arguments of DataFrame.drop except for the argument 'labels' will be keyword-only.\n",
      "  X = df.drop(\"Id\", 1)       # feature matrix\n"
     ]
    }
   ],
   "source": [
    "from sklearn.datasets import load_boston\n",
    "# boston = load_boston()\n",
    "df = pd.read_csv(\"scores_full.csv\")\n",
    "df2 = pd.read_csv(\"5_days_sleep_pattern_1.csv\")\n",
    "df2 = df2.drop([\"Unnamed: 0\", \"Id\"], 1)\n",
    "df = df.drop([\"Unnamed: 0\", \"days\", \"inpatient\"], 1)\n",
    "df = df.join(df2)\n",
    "X = df.drop(\"Id\", 1)       # feature matrix\n",
    "y = df['Id']               # target feature"
   ]
  },
  {
   "cell_type": "code",
   "execution_count": 57,
   "metadata": {},
   "outputs": [
    {
     "data": {
      "text/plain": [
       "Index(['gender', 'age', 'afftype', 'melanch', 'edu', 'marriage', 'work',\n",
       "       'madrs1', '5days_sleep_time_activity', '5days_day_time_activity'],\n",
       "      dtype='object')"
      ]
     },
     "execution_count": 57,
     "metadata": {},
     "output_type": "execute_result"
    }
   ],
   "source": [
    "features = X.columns\n",
    "features"
   ]
  },
  {
   "cell_type": "code",
   "execution_count": 58,
   "metadata": {},
   "outputs": [
    {
     "name": "stdout",
     "output_type": "stream",
     "text": [
      "(44, 10)\n",
      "(11, 10)\n",
      "(44,)\n",
      "(11,)\n"
     ]
    }
   ],
   "source": [
    "X_train,X_test,y_train,y_test = train_test_split(X,y,random_state = 5,test_size =0.20)\n",
    "print(X_train.shape)\n",
    "print(X_test.shape)\n",
    "print(y_train.shape)\n",
    "print(y_test.shape)"
   ]
  },
  {
   "cell_type": "code",
   "execution_count": 59,
   "metadata": {},
   "outputs": [
    {
     "data": {
      "text/plain": [
       "Lasso(alpha=0.1)"
      ]
     },
     "execution_count": 59,
     "metadata": {},
     "output_type": "execute_result"
    }
   ],
   "source": [
    "# Lets apply the Lasso Model -- in Linear Dataset\n",
    "lasso = Lasso(alpha=0.1)\n",
    "lasso.fit(X_train,y_train)"
   ]
  },
  {
   "cell_type": "code",
   "execution_count": 60,
   "metadata": {},
   "outputs": [
    {
     "data": {
      "text/plain": [
       "array([-0.00000000e+00, -0.00000000e+00, -0.00000000e+00, -0.00000000e+00,\n",
       "       -0.00000000e+00,  0.00000000e+00, -0.00000000e+00, -4.24720097e-02,\n",
       "        1.44646340e-06,  3.40750264e-07])"
      ]
     },
     "execution_count": 60,
     "metadata": {},
     "output_type": "execute_result"
    }
   ],
   "source": [
    "coeff = lasso.coef_\n",
    "coeff"
   ]
  },
  {
   "cell_type": "code",
   "execution_count": 61,
   "metadata": {},
   "outputs": [
    {
     "data": {
      "text/html": [
       "<div>\n",
       "<style scoped>\n",
       "    .dataframe tbody tr th:only-of-type {\n",
       "        vertical-align: middle;\n",
       "    }\n",
       "\n",
       "    .dataframe tbody tr th {\n",
       "        vertical-align: top;\n",
       "    }\n",
       "\n",
       "    .dataframe thead th {\n",
       "        text-align: right;\n",
       "    }\n",
       "</style>\n",
       "<table border=\"1\" class=\"dataframe\">\n",
       "  <thead>\n",
       "    <tr style=\"text-align: right;\">\n",
       "      <th></th>\n",
       "      <th>features</th>\n",
       "      <th>coeff</th>\n",
       "    </tr>\n",
       "  </thead>\n",
       "  <tbody>\n",
       "    <tr>\n",
       "      <th>7</th>\n",
       "      <td>madrs1</td>\n",
       "      <td>-4.247201e-02</td>\n",
       "    </tr>\n",
       "    <tr>\n",
       "      <th>0</th>\n",
       "      <td>gender</td>\n",
       "      <td>-0.000000e+00</td>\n",
       "    </tr>\n",
       "    <tr>\n",
       "      <th>1</th>\n",
       "      <td>age</td>\n",
       "      <td>-0.000000e+00</td>\n",
       "    </tr>\n",
       "    <tr>\n",
       "      <th>2</th>\n",
       "      <td>afftype</td>\n",
       "      <td>-0.000000e+00</td>\n",
       "    </tr>\n",
       "    <tr>\n",
       "      <th>3</th>\n",
       "      <td>melanch</td>\n",
       "      <td>-0.000000e+00</td>\n",
       "    </tr>\n",
       "    <tr>\n",
       "      <th>4</th>\n",
       "      <td>edu</td>\n",
       "      <td>-0.000000e+00</td>\n",
       "    </tr>\n",
       "    <tr>\n",
       "      <th>5</th>\n",
       "      <td>marriage</td>\n",
       "      <td>0.000000e+00</td>\n",
       "    </tr>\n",
       "    <tr>\n",
       "      <th>6</th>\n",
       "      <td>work</td>\n",
       "      <td>-0.000000e+00</td>\n",
       "    </tr>\n",
       "    <tr>\n",
       "      <th>9</th>\n",
       "      <td>5days_day_time_activity</td>\n",
       "      <td>3.407503e-07</td>\n",
       "    </tr>\n",
       "    <tr>\n",
       "      <th>8</th>\n",
       "      <td>5days_sleep_time_activity</td>\n",
       "      <td>1.446463e-06</td>\n",
       "    </tr>\n",
       "  </tbody>\n",
       "</table>\n",
       "</div>"
      ],
      "text/plain": [
       "                    features         coeff\n",
       "7                     madrs1 -4.247201e-02\n",
       "0                     gender -0.000000e+00\n",
       "1                        age -0.000000e+00\n",
       "2                    afftype -0.000000e+00\n",
       "3                    melanch -0.000000e+00\n",
       "4                        edu -0.000000e+00\n",
       "5                   marriage  0.000000e+00\n",
       "6                       work -0.000000e+00\n",
       "9    5days_day_time_activity  3.407503e-07\n",
       "8  5days_sleep_time_activity  1.446463e-06"
      ]
     },
     "execution_count": 61,
     "metadata": {},
     "output_type": "execute_result"
    }
   ],
   "source": [
    "df_coeff = pd.DataFrame({\"features\":features,\"coeff\":coeff})\n",
    "df_coeff.sort_values(\"coeff\")"
   ]
  },
  {
   "cell_type": "code",
   "execution_count": 62,
   "metadata": {},
   "outputs": [
    {
     "data": {
      "image/png": "[encoded data removed]",
      "text/plain": [
       "<Figure size 432x288 with 1 Axes>"
      ]
     },
     "metadata": {
      "needs_background": "light"
     },
     "output_type": "display_data"
    }
   ],
   "source": [
    "# Lets plot the coeff with features\n",
    "plt.plot(range(len(features)),coeff, color='red', linestyle='dashdot', linewidth = 1,marker='o', \n",
    "         markerfacecolor='blue', markersize=5)\n",
    "plt.xticks(range(len(features)),features,rotation=60)\n",
    "plt.ylabel(\"Features_Coeff\")\n",
    "plt.show()"
   ]
  },
  {
   "cell_type": "code",
   "execution_count": 63,
   "metadata": {},
   "outputs": [
    {
     "data": {
      "text/plain": [
       "<AxesSubplot:xlabel='features', ylabel='coeff'>"
      ]
     },
     "execution_count": 63,
     "metadata": {},
     "output_type": "execute_result"
    },
    {
     "data": {
      "image/png": "[encoded data removed]",
      "text/plain": [
       "<Figure size 720x216 with 1 Axes>"
      ]
     },
     "metadata": {
      "needs_background": "light"
     },
     "output_type": "display_data"
    }
   ],
   "source": [
    "# Use Bar chart to show coeff\n",
    "df_coeff.set_index('coeff')\n",
    "# sort in ascending order to better visualization.\n",
    "df_coeff = df_coeff.sort_values('coeff')\n",
    "# plot the feature coeff in bars.\n",
    "plt.figure(figsize=(10,3))\n",
    "plt.xticks(rotation=45)\n",
    "sns.barplot(x=\"features\",y= \"coeff\", data=df_coeff)"
   ]
  }
 ],
 "metadata": {
  "interpreter": {
   "hash": "6a7ca81b6d1e02f35cda15cba8a995da23d37367aa7d99d7424dbf9b88ca92bc"
  },
  "kernelspec": {
   "display_name": "Python 3.10.4 64-bit (windows store)",
   "language": "python",
   "name": "python3"
  },
  "language_info": {
   "codemirror_mode": {
    "name": "ipython",
    "version": 3
   },
   "file_extension": ".py",
   "mimetype": "text/x-python",
   "name": "python",
   "nbconvert_exporter": "python",
   "pygments_lexer": "ipython3",
   "version": "3.10.4"
  },
  "orig_nbformat": 4
 },
 "nbformat": 4,
 "nbformat_minor": 2
}
