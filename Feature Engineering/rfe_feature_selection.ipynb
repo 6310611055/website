{
 "cells": [
  {
   "cell_type": "code",
   "execution_count": 678,
   "metadata": {},
   "outputs": [],
   "source": [
    "import pandas as pd\n",
    "import seaborn as sns\n",
    "import numpy as np\n",
    "import matplotlib.pyplot as plt\n",
    "%matplotlib inline\n",
    "%config InlineBackend.figure_format = 'retina'"
   ]
  },
  {
   "cell_type": "code",
   "execution_count": 679,
   "metadata": {},
   "outputs": [],
   "source": [
    "df=pd.read_csv('dataset_filled_missing.csv')\n",
    "df['Id'] = ['1', '1', '1', '1', '1', '1', '1', '1', '1', '1', '1', '1', '1', '1', '1', '1', '1', '1', '1', '1', '1', '1', '1', '0', '0',\n",
    "            '0', '0', '0', '0', '0', '0', '0', '0', '0', '0', '0', '0', '0', '0', '0', '0', '0', '0', '0', '0', '0', '0', '0', '0', '0', '0', '0', '0', '0', '0']\n",
    "df.drop([\"Unnamed: 0\"], axis=1, inplace=True)"
   ]
  },
  {
   "cell_type": "code",
   "execution_count": 680,
   "metadata": {},
   "outputs": [
    {
     "name": "stdout",
     "output_type": "stream",
     "text": [
      "<class 'pandas.core.frame.DataFrame'>\n",
      "RangeIndex: 55 entries, 0 to 54\n",
      "Data columns (total 11 columns):\n",
      " #   Column                     Non-Null Count  Dtype  \n",
      "---  ------                     --------------  -----  \n",
      " 0   gender                     55 non-null     int64  \n",
      " 1   age                        55 non-null     int64  \n",
      " 2   afftype                    55 non-null     int64  \n",
      " 3   melanch                    55 non-null     int64  \n",
      " 4   edu                        55 non-null     int64  \n",
      " 5   marriage                   55 non-null     int64  \n",
      " 6   work                       55 non-null     int64  \n",
      " 7   madrs1                     55 non-null     int64  \n",
      " 8   5days_sleep_time_activity  55 non-null     float64\n",
      " 9   5days_day_time_activity    55 non-null     float64\n",
      " 10  Id                         55 non-null     object \n",
      "dtypes: float64(2), int64(8), object(1)\n",
      "memory usage: 4.9+ KB\n"
     ]
    }
   ],
   "source": [
    "df.info()"
   ]
  },
  {
   "cell_type": "code",
   "execution_count": 681,
   "metadata": {},
   "outputs": [],
   "source": [
    "import sklearn\n",
    "from sklearn.model_selection import train_test_split\n",
    "\n",
    "\n",
    "from sklearn.tree import DecisionTreeClassifier\n",
    "from sklearn.ensemble import GradientBoostingClassifier\n",
    "from sklearn.ensemble import RandomForestClassifier\n",
    "from sklearn.ensemble import AdaBoostClassifier\n",
    "from sklearn.ensemble import ExtraTreesClassifier\n",
    "from sklearn.linear_model import LogisticRegression\n",
    "from sklearn.svm import SVC\n",
    "\n",
    "from sklearn.neighbors import KNeighborsClassifier\n",
    "\n",
    "from sklearn import metrics\n",
    "from sklearn.feature_selection import RFE # recursive feature elimination"
   ]
  },
  {
   "cell_type": "code",
   "execution_count": 682,
   "metadata": {},
   "outputs": [
    {
     "data": {
      "text/plain": [
       "Index(['gender', 'age', 'afftype', 'melanch', 'edu', 'marriage', 'work',\n",
       "       'madrs1', '5days_sleep_time_activity', '5days_day_time_activity', 'Id'],\n",
       "      dtype='object')"
      ]
     },
     "execution_count": 682,
     "metadata": {},
     "output_type": "execute_result"
    }
   ],
   "source": [
    "df.columns"
   ]
  },
  {
   "cell_type": "code",
   "execution_count": 683,
   "metadata": {},
   "outputs": [],
   "source": [
    "cols=['gender', 'age', 'afftype', 'melanch', 'edu', 'marriage',\n",
    "       'work', 'madrs1', '5days_sleep_time_activity',\n",
    "       '5days_day_time_activity']\n",
    "X=df[cols]\n",
    "y=df['Id']\n",
    "test_size=.2\n",
    "X_train, X_test, y_train, y_test = train_test_split(X, y, \n",
    "                                                    test_size=test_size, \n",
    "                                                    stratify=y,\n",
    "                                                    random_state=7)\n",
    "\n",
    "\n",
    "#estimator = RandomForestClassifier(n_estimators=100)\n",
    "estimator = GradientBoostingClassifier(n_estimators=100)\n",
    "\n",
    "selector = RFE(estimator, n_features_to_select=3, step=1) # select 3 features\n",
    "selector = selector.fit(X_train, y_train)"
   ]
  },
  {
   "cell_type": "code",
   "execution_count": 684,
   "metadata": {},
   "outputs": [
    {
     "data": {
      "text/plain": [
       "array([False, False, False, False, False, False, False,  True,  True,\n",
       "        True])"
      ]
     },
     "execution_count": 684,
     "metadata": {},
     "output_type": "execute_result"
    }
   ],
   "source": [
    "selector.support_ "
   ]
  },
  {
   "cell_type": "code",
   "execution_count": 685,
   "metadata": {},
   "outputs": [
    {
     "data": {
      "text/plain": [
       "array([8, 7, 6, 5, 4, 3, 2, 1, 1, 1])"
      ]
     },
     "execution_count": 685,
     "metadata": {},
     "output_type": "execute_result"
    }
   ],
   "source": [
    "selector.ranking_"
   ]
  },
  {
   "cell_type": "code",
   "execution_count": 686,
   "metadata": {},
   "outputs": [
    {
     "data": {
      "text/plain": [
       "3"
      ]
     },
     "execution_count": 686,
     "metadata": {},
     "output_type": "execute_result"
    }
   ],
   "source": [
    "selector.n_features_"
   ]
  },
  {
   "cell_type": "code",
   "execution_count": 687,
   "metadata": {},
   "outputs": [
    {
     "data": {
      "text/plain": [
       "array(['madrs1', '5days_sleep_time_activity', '5days_day_time_activity'],\n",
       "      dtype='<U25')"
      ]
     },
     "execution_count": 687,
     "metadata": {},
     "output_type": "execute_result"
    }
   ],
   "source": [
    "np.array(cols)[selector.support_] # convert list to numpy array and use boolean array to filter data "
   ]
  },
  {
   "cell_type": "code",
   "execution_count": 688,
   "metadata": {},
   "outputs": [
    {
     "data": {
      "text/plain": [
       "array(['madrs1', '5days_sleep_time_activity', '5days_day_time_activity'],\n",
       "      dtype='<U25')"
      ]
     },
     "execution_count": 688,
     "metadata": {},
     "output_type": "execute_result"
    }
   ],
   "source": [
    "sel_cols=np.array(cols)[selector.support_]\n",
    "sel_cols"
   ]
  },
  {
   "cell_type": "code",
   "execution_count": 689,
   "metadata": {},
   "outputs": [
    {
     "data": {
      "text/plain": [
       "array([[2.400000e+01, 4.321100e+04, 3.177260e+05],\n",
       "       [1.900000e+01, 1.069360e+04, 2.288240e+05],\n",
       "       [4.000000e+00, 2.348100e+04, 2.556764e+05],\n",
       "       [9.000000e+00, 6.250400e+04, 4.807282e+05],\n",
       "       [4.000000e+00, 4.990480e+04, 3.987230e+05]])"
      ]
     },
     "execution_count": 689,
     "metadata": {},
     "output_type": "execute_result"
    }
   ],
   "source": [
    "selector.transform(X_test)[:5] # return only selected features"
   ]
  },
  {
   "cell_type": "code",
   "execution_count": 690,
   "metadata": {},
   "outputs": [],
   "source": [
    "X_train_sel=pd.DataFrame(selector.transform(X_train), columns=np.array(cols)[selector.support_])\n",
    "X_test_sel=pd.DataFrame(selector.transform(X_test), columns=np.array(cols)[selector.support_])"
   ]
  },
  {
   "cell_type": "code",
   "execution_count": 691,
   "metadata": {},
   "outputs": [
    {
     "data": {
      "text/html": [
       "<div>\n",
       "<style scoped>\n",
       "    .dataframe tbody tr th:only-of-type {\n",
       "        vertical-align: middle;\n",
       "    }\n",
       "\n",
       "    .dataframe tbody tr th {\n",
       "        vertical-align: top;\n",
       "    }\n",
       "\n",
       "    .dataframe thead th {\n",
       "        text-align: right;\n",
       "    }\n",
       "</style>\n",
       "<table border=\"1\" class=\"dataframe\">\n",
       "  <thead>\n",
       "    <tr style=\"text-align: right;\">\n",
       "      <th></th>\n",
       "      <th>madrs1</th>\n",
       "      <th>5days_sleep_time_activity</th>\n",
       "      <th>5days_day_time_activity</th>\n",
       "    </tr>\n",
       "  </thead>\n",
       "  <tbody>\n",
       "    <tr>\n",
       "      <th>0</th>\n",
       "      <td>4.0</td>\n",
       "      <td>37543.8</td>\n",
       "      <td>233625.8</td>\n",
       "    </tr>\n",
       "    <tr>\n",
       "      <th>1</th>\n",
       "      <td>4.0</td>\n",
       "      <td>124525.0</td>\n",
       "      <td>467588.6</td>\n",
       "    </tr>\n",
       "    <tr>\n",
       "      <th>2</th>\n",
       "      <td>4.0</td>\n",
       "      <td>129507.8</td>\n",
       "      <td>260240.4</td>\n",
       "    </tr>\n",
       "    <tr>\n",
       "      <th>3</th>\n",
       "      <td>4.0</td>\n",
       "      <td>79226.0</td>\n",
       "      <td>233218.6</td>\n",
       "    </tr>\n",
       "    <tr>\n",
       "      <th>4</th>\n",
       "      <td>28.0</td>\n",
       "      <td>42878.0</td>\n",
       "      <td>72237.4</td>\n",
       "    </tr>\n",
       "  </tbody>\n",
       "</table>\n",
       "</div>"
      ],
      "text/plain": [
       "   madrs1  5days_sleep_time_activity  5days_day_time_activity\n",
       "0     4.0                    37543.8                 233625.8\n",
       "1     4.0                   124525.0                 467588.6\n",
       "2     4.0                   129507.8                 260240.4\n",
       "3     4.0                    79226.0                 233218.6\n",
       "4    28.0                    42878.0                  72237.4"
      ]
     },
     "execution_count": 691,
     "metadata": {},
     "output_type": "execute_result"
    }
   ],
   "source": [
    "X_train_sel.head()"
   ]
  },
  {
   "cell_type": "code",
   "execution_count": 692,
   "metadata": {},
   "outputs": [
    {
     "data": {
      "text/html": [
       "<div>\n",
       "<style scoped>\n",
       "    .dataframe tbody tr th:only-of-type {\n",
       "        vertical-align: middle;\n",
       "    }\n",
       "\n",
       "    .dataframe tbody tr th {\n",
       "        vertical-align: top;\n",
       "    }\n",
       "\n",
       "    .dataframe thead th {\n",
       "        text-align: right;\n",
       "    }\n",
       "</style>\n",
       "<table border=\"1\" class=\"dataframe\">\n",
       "  <thead>\n",
       "    <tr style=\"text-align: right;\">\n",
       "      <th></th>\n",
       "      <th>madrs1</th>\n",
       "      <th>5days_sleep_time_activity</th>\n",
       "      <th>5days_day_time_activity</th>\n",
       "    </tr>\n",
       "  </thead>\n",
       "  <tbody>\n",
       "    <tr>\n",
       "      <th>0</th>\n",
       "      <td>24.0</td>\n",
       "      <td>43211.0</td>\n",
       "      <td>317726.0</td>\n",
       "    </tr>\n",
       "    <tr>\n",
       "      <th>1</th>\n",
       "      <td>19.0</td>\n",
       "      <td>10693.6</td>\n",
       "      <td>228824.0</td>\n",
       "    </tr>\n",
       "    <tr>\n",
       "      <th>2</th>\n",
       "      <td>4.0</td>\n",
       "      <td>23481.0</td>\n",
       "      <td>255676.4</td>\n",
       "    </tr>\n",
       "    <tr>\n",
       "      <th>3</th>\n",
       "      <td>9.0</td>\n",
       "      <td>62504.0</td>\n",
       "      <td>480728.2</td>\n",
       "    </tr>\n",
       "    <tr>\n",
       "      <th>4</th>\n",
       "      <td>4.0</td>\n",
       "      <td>49904.8</td>\n",
       "      <td>398723.0</td>\n",
       "    </tr>\n",
       "  </tbody>\n",
       "</table>\n",
       "</div>"
      ],
      "text/plain": [
       "   madrs1  5days_sleep_time_activity  5days_day_time_activity\n",
       "0    24.0                    43211.0                 317726.0\n",
       "1    19.0                    10693.6                 228824.0\n",
       "2     4.0                    23481.0                 255676.4\n",
       "3     9.0                    62504.0                 480728.2\n",
       "4     4.0                    49904.8                 398723.0"
      ]
     },
     "execution_count": 692,
     "metadata": {},
     "output_type": "execute_result"
    }
   ],
   "source": [
    "X_test_sel.head()"
   ]
  },
  {
   "cell_type": "code",
   "execution_count": 693,
   "metadata": {},
   "outputs": [
    {
     "name": "stdout",
     "output_type": "stream",
     "text": [
      "feature importances [0.56057296 0.24801459 0.19141245]\n",
      "X[selected features] score: 1.0000\n",
      "[[6 0]\n",
      " [0 5]]\n",
      "              precision    recall  f1-score   support\n",
      "\n",
      "           0       1.00      1.00      1.00         6\n",
      "           1       1.00      1.00      1.00         5\n",
      "\n",
      "    accuracy                           1.00        11\n",
      "   macro avg       1.00      1.00      1.00        11\n",
      "weighted avg       1.00      1.00      1.00        11\n",
      "\n"
     ]
    }
   ],
   "source": [
    "#select feature\n",
    "# model= GradientBoostingClassifier(n_estimators=100, random_state=777)\n",
    "model= RandomForestClassifier(n_estimators=100, random_state=777)\n",
    "\n",
    "model.fit(X_train_sel, y_train)\n",
    "score=model.score(X_test_sel, y_test)\n",
    "# model_scores.append([score, a[1]])\n",
    "y_pred=model.predict(X_test_sel)\n",
    "print(f'feature importances', model.feature_importances_)\n",
    "print(f'X[selected features] score: {score:.04f}')\n",
    "print(metrics.confusion_matrix(y_test, y_pred))\n",
    "print(metrics.classification_report(y_test, y_pred))"
   ]
  },
  {
   "cell_type": "code",
   "execution_count": 694,
   "metadata": {},
   "outputs": [
    {
     "data": {
      "text/plain": [
       "5days_day_time_activity      0.191412\n",
       "5days_sleep_time_activity    0.248015\n",
       "madrs1                       0.560573\n",
       "dtype: float64"
      ]
     },
     "execution_count": 694,
     "metadata": {},
     "output_type": "execute_result"
    }
   ],
   "source": [
    "fs=pd.Series(model.feature_importances_, index=X_train_sel.columns).sort_values(ascending=True)\n",
    "fs"
   ]
  },
  {
   "cell_type": "code",
   "execution_count": 695,
   "metadata": {},
   "outputs": [
    {
     "data": {
      "image/png": "[encoded data removed]",
      "text/plain": [
       "<Figure size 432x288 with 1 Axes>"
      ]
     },
     "metadata": {
      "image/png": {
       "height": 248,
       "width": 487
      },
      "needs_background": "light"
     },
     "output_type": "display_data"
    }
   ],
   "source": [
    "fs.plot(kind='barh');"
   ]
  }
 ],
 "metadata": {
  "interpreter": {
   "hash": "a639e8161396131da3a9d2deefd1fc9bac9a58dc32d983c62407617f946153ec"
  },
  "kernelspec": {
   "display_name": "Python 3.10.0 64-bit",
   "language": "python",
   "name": "python3"
  },
  "language_info": {
   "codemirror_mode": {
    "name": "ipython",
    "version": 3
   },
   "file_extension": ".py",
   "mimetype": "text/x-python",
   "name": "python",
   "nbconvert_exporter": "python",
   "pygments_lexer": "ipython3",
   "version": "3.10.0"
  },
  "orig_nbformat": 4
 },
 "nbformat": 4,
 "nbformat_minor": 2
}
